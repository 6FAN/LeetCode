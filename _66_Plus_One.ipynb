{
  "cells": [
    {
      "cell_type": "markdown",
      "metadata": {
        "id": "view-in-github",
        "colab_type": "text"
      },
      "source": [
        "<a href=\"https://colab.research.google.com/github/6FAN/LeetCode/blob/main/_66_Plus_One.ipynb\" target=\"_parent\"><img src=\"https://colab.research.google.com/assets/colab-badge.svg\" alt=\"Open In Colab\"/></a>"
      ]
    },
    {
      "metadata": {
        "id": "rALnXhQg_9Hp"
      },
      "cell_type": "markdown",
      "source": [
        "you are given a **Large integer** represented as an integer array \"Digits\", where each \"Digits[i]\" is the \"i\"th digit of the integer. The digits are ordered from most significant to least significant in left-to-right order. The large integer does not contain any leading \"0\"s"
      ]
    },
    {
      "metadata": {
        "id": "cTSomQ81_9Hq"
      },
      "cell_type": "markdown",
      "source": [
        "Increment the large integer by one and return the resulting array of digits."
      ]
    },
    {
      "metadata": {
        "id": "87J6zBYh_9Hr"
      },
      "cell_type": "markdown",
      "source": [
        "**Example 1:**"
      ]
    },
    {
      "metadata": {
        "id": "A2z117OH_9Hr"
      },
      "cell_type": "raw",
      "source": [
        "INPUT : digits = [1, 2, 3]\n",
        "OUTPUT : [1, 2, 4]\n",
        "Explanation : The array represents the integer 123. Incrementing by one gives 123 + 1 = 124. Thus, the result should be [1, 2, 4]"
      ]
    },
    {
      "metadata": {
        "id": "xOKvikur_9Hr"
      },
      "cell_type": "markdown",
      "source": [
        "**Example 2:**"
      ]
    },
    {
      "metadata": {
        "id": "ZD68MHne_9Hr"
      },
      "cell_type": "raw",
      "source": [
        "INPUT : digits = [4, 3, 2, 1]\n",
        "OUTPUT : [4, 3, 2, 2]\n",
        "Explanation : The array represents the integer 4321. Incrementing by one gives 4321 + 1 = 4322. Thus, the result should be [4, 3, 2, 2]"
      ]
    },
    {
      "metadata": {
        "id": "bsQG_x9i_9Hs"
      },
      "cell_type": "markdown",
      "source": [
        "**Example 3:**"
      ]
    },
    {
      "metadata": {
        "id": "1LNuMdFW_9Hs"
      },
      "cell_type": "raw",
      "source": [
        "INPUT : digits = [9]\n",
        "OUTPUT : [1, 0]\n",
        "Explanation : The array represents the integer 9. Incrementing by one gives 9 + 1 = 10. Thus, the result should be [1, 0]"
      ]
    },
    {
      "metadata": {
        "trusted": true,
        "id": "00XAq88D_9Hs",
        "outputId": "120cd3d0-4ca5-4a12-b805-6ed618a54ab6"
      },
      "cell_type": "code",
      "source": [
        "class Solution:\n",
        "\n",
        "    def plusone(self, digits):\n",
        "        for i in reversed(range(\n",
        "                       len(digits))):\n",
        "            if digits[i] != 9:\n",
        "                digits[i] += 1\n",
        "                return digits\n",
        "            digits[i] = 0\n",
        "\n",
        "        return [1] + digits\n",
        "digits = [9, 9, 9]\n",
        "obj = Solution()\n",
        "obj.plusone(digits)\n",
        "#print(digits)"
      ],
      "execution_count": null,
      "outputs": [
        {
          "output_type": "execute_result",
          "execution_count": 10,
          "data": {
            "text/plain": "[1, 0, 0, 0]"
          },
          "metadata": {}
        }
      ]
    },
    {
      "metadata": {
        "trusted": false,
        "id": "kW4hNO5h_9Ht",
        "outputId": "7bfafd83-7638-457e-ffe7-3fc7bdbf7ecd"
      },
      "cell_type": "code",
      "source": [
        "def plusone(digits):\n",
        "    for i in range(len(digits)-1,-1,-1):\n",
        "        if digits[i] == 9:\n",
        "            digits[i] = 0\n",
        "        else:\n",
        "            digits[i] += 1\n",
        "            return digits\n",
        "\n",
        "\n",
        "    return [1] + digits\n",
        "digits = [9, 9, 9]\n",
        "plusone(digits)\n",
        "#print(digits)"
      ],
      "execution_count": null,
      "outputs": [
        {
          "output_type": "execute_result",
          "execution_count": 14,
          "data": {
            "text/plain": "[1, 0, 0, 0]"
          },
          "metadata": {}
        }
      ]
    }
  ],
  "metadata": {
    "kernelspec": {
      "name": "python3",
      "display_name": "Python 3",
      "language": "python"
    },
    "language_info": {
      "name": "python",
      "version": "3.10.4",
      "mimetype": "text/x-python",
      "codemirror_mode": {
        "name": "ipython",
        "version": 3
      },
      "pygments_lexer": "ipython3",
      "nbconvert_exporter": "python",
      "file_extension": ".py"
    },
    "colab": {
      "provenance": [],
      "include_colab_link": true
    }
  },
  "nbformat": 4,
  "nbformat_minor": 0
}